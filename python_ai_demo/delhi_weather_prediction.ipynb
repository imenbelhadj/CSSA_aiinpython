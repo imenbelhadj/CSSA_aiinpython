{
 "cells": [
  {
   "cell_type": "markdown",
   "metadata": {},
   "source": [
    "Select kernel (kernels allow you to run code in \"sessions\").\n",
    "\n",
    "Identify Python version in case you need to troubleshoot later."
   ]
  },
  {
   "cell_type": "code",
   "execution_count": null,
   "metadata": {},
   "outputs": [],
   "source": [
    "import sys\n",
    "print(sys.executable)"
   ]
  },
  {
   "cell_type": "markdown",
   "metadata": {},
   "source": [
    "use %pip to install each library (NOTE: you may need !pip if you are using a Mac, !pip or %pip is only for jupyter notebooks; if you type it in the console for a normal python file, use pip)"
   ]
  },
  {
   "cell_type": "code",
   "execution_count": null,
   "metadata": {},
   "outputs": [],
   "source": [
    "%pip install pandas"
   ]
  },
  {
   "cell_type": "code",
   "execution_count": null,
   "metadata": {},
   "outputs": [],
   "source": [
    "%pip install numpy matplotlib"
   ]
  },
  {
   "cell_type": "code",
   "execution_count": null,
   "metadata": {},
   "outputs": [],
   "source": [
    "%pip install seaborn plotly"
   ]
  },
  {
   "cell_type": "markdown",
   "metadata": {},
   "source": [
    "After installing these individually, restart the kernel, then run the following to import:"
   ]
  },
  {
   "cell_type": "code",
   "execution_count": null,
   "metadata": {},
   "outputs": [],
   "source": [
    "import pandas as pd\n",
    "import numpy as np\n",
    "import matplotlib.pyplot as plt\n",
    "import seaborn as sns\n",
    "import plotly.express as px\n",
    "\n",
    "data = pd.read_csv(r\"C:\\Users\\imenb\\OneDrive\\Desktop\\python_ai_demo\\DailyDelhiClimateTrain.csv\")\n",
    "print(data.head())"
   ]
  },
  {
   "cell_type": "markdown",
   "metadata": {},
   "source": [
    "Let’s have a look at the descriptive statistics of this data before moving forward."
   ]
  },
  {
   "cell_type": "code",
   "execution_count": null,
   "metadata": {},
   "outputs": [],
   "source": [
    "print(data.describe())"
   ]
  },
  {
   "cell_type": "markdown",
   "metadata": {},
   "source": [
    "What are the columns?"
   ]
  },
  {
   "cell_type": "code",
   "execution_count": null,
   "metadata": {},
   "outputs": [],
   "source": [
    "print(data.info())"
   ]
  },
  {
   "cell_type": "markdown",
   "metadata": {},
   "source": [
    "Update nbformat package in order to needed to create graphs."
   ]
  },
  {
   "cell_type": "code",
   "execution_count": null,
   "metadata": {},
   "outputs": [],
   "source": [
    "%pip install --upgrade nbformat"
   ]
  },
  {
   "cell_type": "markdown",
   "metadata": {},
   "source": [
    "Restart kernel and run all of the above.\n",
    "\n",
    "Create a figure showing the Mean Temp in Delhi from Jan 2013-Jan 2017."
   ]
  },
  {
   "cell_type": "code",
   "execution_count": null,
   "metadata": {},
   "outputs": [],
   "source": [
    "figure = px.line(data, x=\"date\",\n",
    "                 y = \"meantemp\",\n",
    "                 title = 'Mean Temp in Delhi from Jan 2013-Jan 2017')\n",
    "figure.show()"
   ]
  },
  {
   "cell_type": "markdown",
   "metadata": {},
   "source": [
    "Create a figure showing the Humdity in Delhi from Jan 2013-Jan 2017."
   ]
  },
  {
   "cell_type": "code",
   "execution_count": null,
   "metadata": {},
   "outputs": [],
   "source": [
    "figure = px.line(data, x=\"date\", \n",
    "                 y=\"humidity\", \n",
    "                 title='Humdity in Delhi from Jan 2013-Jan 2017')\n",
    "figure.show()"
   ]
  },
  {
   "cell_type": "markdown",
   "metadata": {},
   "source": [
    "Create a figure for wind speed."
   ]
  },
  {
   "cell_type": "code",
   "execution_count": null,
   "metadata": {},
   "outputs": [],
   "source": [
    "figure = px.line(data, x=\"date\", \n",
    "                 y=\"wind_speed\", \n",
    "                 title='Wind Speed in Delhi Over the Years')\n",
    "figure.show()"
   ]
  },
  {
   "cell_type": "markdown",
   "metadata": {},
   "source": [
    "This plot shows us that until 2015, the wind speed was higher during monsoon season (August & September) and retreating monsoons (December & January). After 2015, there were no anomalies in wind speed during monsoons. \n",
    "\n",
    "Now let’s have a look at the relationship between temperature and humidity."
   ]
  },
  {
   "cell_type": "code",
   "execution_count": null,
   "metadata": {},
   "outputs": [],
   "source": [
    "%pip install statsmodels"
   ]
  },
  {
   "cell_type": "markdown",
   "metadata": {},
   "source": [
    "Restart kernel and rerun all of the above."
   ]
  },
  {
   "cell_type": "code",
   "execution_count": null,
   "metadata": {},
   "outputs": [],
   "source": [
    "import statsmodels.api as sm\n",
    "print(\"statsmodels is installed successfully.\")"
   ]
  },
  {
   "cell_type": "code",
   "execution_count": null,
   "metadata": {},
   "outputs": [],
   "source": [
    "figure = px.scatter(data_frame = data, x=\"humidity\",\n",
    "                    y=\"meantemp\", size=\"meantemp\", \n",
    "                    trendline=\"ols\", \n",
    "                    title = \"Relationship Between Temperature and Humidity\")\n",
    "figure.show()"
   ]
  },
  {
   "cell_type": "markdown",
   "metadata": {},
   "source": [
    "This line of best fit shows a negative correlation between temperature and humidity, which we now know because we're superstar data scientists!\n",
    "\n",
    "Let's now analyze the temperature change."
   ]
  },
  {
   "cell_type": "code",
   "execution_count": null,
   "metadata": {},
   "outputs": [],
   "source": [
    "data[\"date\"] = pd.to_datetime(data[\"date\"], format = '%Y-%m-%d')\n",
    "data['year'] = data['date'].dt.year\n",
    "data[\"month\"] = data[\"date\"].dt.month\n",
    "print(data.head())"
   ]
  },
  {
   "cell_type": "markdown",
   "metadata": {},
   "source": [
    "View a plot of the temperature change across several years."
   ]
  },
  {
   "cell_type": "code",
   "execution_count": null,
   "metadata": {},
   "outputs": [],
   "source": [
    "plt.style.use('fivethirtyeight')\n",
    "plt.figure(figsize=(15, 10))\n",
    "plt.title(\"Temperature Change in Delhi Over the Years\")\n",
    "sns.lineplot(data = data, x='month', y='meantemp', hue='year')\n",
    "plt.show()"
   ]
  },
  {
   "cell_type": "markdown",
   "metadata": {},
   "source": [
    "Now, let's use AI to forecast the weather. We will be using the prophet library for this."
   ]
  },
  {
   "cell_type": "code",
   "execution_count": null,
   "metadata": {},
   "outputs": [],
   "source": [
    "%pip install prophet"
   ]
  },
  {
   "cell_type": "markdown",
   "metadata": {},
   "source": [
    "Restart kernel and run all of the above. Convert the time data to \"ds\" and labels as \"y\""
   ]
  },
  {
   "cell_type": "code",
   "execution_count": null,
   "metadata": {},
   "outputs": [],
   "source": [
    "forecast_data = data.rename(columns = {\"date\": \"ds\", \n",
    "                                       \"meantemp\": \"y\"})\n",
    "print(forecast_data)"
   ]
  },
  {
   "cell_type": "code",
   "execution_count": null,
   "metadata": {},
   "outputs": [],
   "source": [
    "from prophet import Prophet\n",
    "from prophet.plot import plot_plotly, plot_components_plotly\n",
    "model = Prophet()\n",
    "model.fit(forecast_data)\n",
    "forecasts = model.make_future_dataframe(periods=365)\n",
    "predictions = model.predict(forecasts)\n",
    "plot_plotly(model, predictions)"
   ]
  },
  {
   "cell_type": "markdown",
   "metadata": {},
   "source": [
    "And we have the prediction!"
   ]
  }
 ],
 "metadata": {
  "language_info": {
   "name": "python"
  }
 },
 "nbformat": 4,
 "nbformat_minor": 2
}
